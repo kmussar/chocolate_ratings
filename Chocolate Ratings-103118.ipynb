{
 "cells": [
  {
   "cell_type": "markdown",
   "metadata": {},
   "source": [
    "## Dataset of chocolate ratings imported from http://flavorsofcacao.com/chocolate_database.html\n",
    "\n",
    "Goals: \n",
    "* determine what factors are most important for predicting a high chocolate rating \n",
    "* generate a model that accurately predicts the rating of chocolate "
   ]
  },
  {
   "cell_type": "code",
   "execution_count": 18,
   "metadata": {
    "scrolled": true
   },
   "outputs": [
    {
     "data": {
      "text/html": [
       "<div>\n",
       "<style scoped>\n",
       "    .dataframe tbody tr th:only-of-type {\n",
       "        vertical-align: middle;\n",
       "    }\n",
       "\n",
       "    .dataframe tbody tr th {\n",
       "        vertical-align: top;\n",
       "    }\n",
       "\n",
       "    .dataframe thead th {\n",
       "        text-align: right;\n",
       "    }\n",
       "</style>\n",
       "<table border=\"1\" class=\"dataframe\">\n",
       "  <thead>\n",
       "    <tr style=\"text-align: right;\">\n",
       "      <th></th>\n",
       "      <th>Company \n",
       "(Maker-if known)</th>\n",
       "      <th>Specific Bean Origin\n",
       "or Bar Name</th>\n",
       "      <th>REF</th>\n",
       "      <th>Review\n",
       "Date</th>\n",
       "      <th>Cocoa\n",
       "Percent</th>\n",
       "      <th>Company\n",
       "Location</th>\n",
       "      <th>Rating</th>\n",
       "      <th>Bean\n",
       "Type</th>\n",
       "      <th>Broad Bean\n",
       "Origin</th>\n",
       "    </tr>\n",
       "  </thead>\n",
       "  <tbody>\n",
       "    <tr>\n",
       "      <th>0</th>\n",
       "      <td>A. Morin</td>\n",
       "      <td>Agua Grande</td>\n",
       "      <td>1876</td>\n",
       "      <td>2016</td>\n",
       "      <td>63%</td>\n",
       "      <td>France</td>\n",
       "      <td>3.75</td>\n",
       "      <td></td>\n",
       "      <td>Sao Tome</td>\n",
       "    </tr>\n",
       "    <tr>\n",
       "      <th>1</th>\n",
       "      <td>A. Morin</td>\n",
       "      <td>Kpime</td>\n",
       "      <td>1676</td>\n",
       "      <td>2015</td>\n",
       "      <td>70%</td>\n",
       "      <td>France</td>\n",
       "      <td>2.75</td>\n",
       "      <td></td>\n",
       "      <td>Togo</td>\n",
       "    </tr>\n",
       "    <tr>\n",
       "      <th>2</th>\n",
       "      <td>A. Morin</td>\n",
       "      <td>Atsane</td>\n",
       "      <td>1676</td>\n",
       "      <td>2015</td>\n",
       "      <td>70%</td>\n",
       "      <td>France</td>\n",
       "      <td>3.00</td>\n",
       "      <td></td>\n",
       "      <td>Togo</td>\n",
       "    </tr>\n",
       "    <tr>\n",
       "      <th>3</th>\n",
       "      <td>A. Morin</td>\n",
       "      <td>Akata</td>\n",
       "      <td>1680</td>\n",
       "      <td>2015</td>\n",
       "      <td>70%</td>\n",
       "      <td>France</td>\n",
       "      <td>3.50</td>\n",
       "      <td></td>\n",
       "      <td>Togo</td>\n",
       "    </tr>\n",
       "    <tr>\n",
       "      <th>4</th>\n",
       "      <td>A. Morin</td>\n",
       "      <td>Quilla</td>\n",
       "      <td>1704</td>\n",
       "      <td>2015</td>\n",
       "      <td>70%</td>\n",
       "      <td>France</td>\n",
       "      <td>3.50</td>\n",
       "      <td></td>\n",
       "      <td>Peru</td>\n",
       "    </tr>\n",
       "  </tbody>\n",
       "</table>\n",
       "</div>"
      ],
      "text/plain": [
       "  Company \\n(Maker-if known) Specific Bean Origin\\nor Bar Name   REF  \\\n",
       "0                   A. Morin                       Agua Grande  1876   \n",
       "1                   A. Morin                             Kpime  1676   \n",
       "2                   A. Morin                            Atsane  1676   \n",
       "3                   A. Morin                             Akata  1680   \n",
       "4                   A. Morin                            Quilla  1704   \n",
       "\n",
       "   Review\\nDate Cocoa\\nPercent Company\\nLocation  Rating Bean\\nType  \\\n",
       "0          2016            63%            France    3.75              \n",
       "1          2015            70%            France    2.75              \n",
       "2          2015            70%            France    3.00              \n",
       "3          2015            70%            France    3.50              \n",
       "4          2015            70%            France    3.50              \n",
       "\n",
       "  Broad Bean\\nOrigin  \n",
       "0           Sao Tome  \n",
       "1               Togo  \n",
       "2               Togo  \n",
       "3               Togo  \n",
       "4               Peru  "
      ]
     },
     "execution_count": 18,
     "metadata": {},
     "output_type": "execute_result"
    }
   ],
   "source": [
    "# Import all needed packages \n",
    "import pandas as pd\n",
    "import numpy as np\n",
    "import matplotlib.pyplot as plt\n",
    "import seaborn as sns\n",
    "\n",
    "\n",
    "# Load csv file into a DataFrame \n",
    "df = pd.read_csv('flavors_of_cacao.csv')\n",
    "#df = pd.read_csv(\"chocolate_ratings.csv\")\n",
    "\n",
    "# Check first 5 rows of DataFrame to make sure it loaded correctly \n",
    "df.head()\n"
   ]
  },
  {
   "cell_type": "code",
   "execution_count": 19,
   "metadata": {},
   "outputs": [],
   "source": [
    "# Rename some columns so they're easier to work with \n",
    "original_colnames = df.columns\n",
    "new_colnames = ['company', 'species', 'REF', 'review_year', 'cocoa_percent',\n",
    "                'company_location', 'rating', 'bean_typ', 'country']\n",
    "df = df.rename(columns=dict(zip(original_colnames, new_colnames)))"
   ]
  },
  {
   "cell_type": "code",
   "execution_count": 59,
   "metadata": {},
   "outputs": [
    {
     "data": {
      "text/plain": [
       "<matplotlib.axes._subplots.AxesSubplot at 0x24095f23320>"
      ]
     },
     "execution_count": 59,
     "metadata": {},
     "output_type": "execute_result"
    },
    {
     "data": {
      "image/png": "[encoded data removed]",
      "text/plain": [
       "<matplotlib.figure.Figure at 0x24095f23358>"
      ]
     },
     "metadata": {},
     "output_type": "display_data"
    }
   ],
   "source": [
    "# What is the distribution of the ratings in our dataset? (our target feature)\n",
    "sns.countplot(x='rating',data=df)"
   ]
  },
  {
   "cell_type": "markdown",
   "metadata": {},
   "source": [
    "Distribution looks fairly normal, but is skewed towards higher ratings rather than being centered. "
   ]
  },
  {
   "cell_type": "code",
   "execution_count": 20,
   "metadata": {},
   "outputs": [
    {
     "name": "stdout",
     "output_type": "stream",
     "text": [
      "<class 'pandas.core.frame.DataFrame'>\n",
      "RangeIndex: 1795 entries, 0 to 1794\n",
      "Data columns (total 9 columns):\n",
      "company             1795 non-null object\n",
      "species             1795 non-null object\n",
      "REF                 1795 non-null int64\n",
      "review_year         1795 non-null int64\n",
      "cocoa_percent       1795 non-null object\n",
      "company_location    1795 non-null object\n",
      "rating              1795 non-null float64\n",
      "bean_typ            1794 non-null object\n",
      "country             1794 non-null object\n",
      "dtypes: float64(1), int64(2), object(6)\n",
      "memory usage: 126.3+ KB\n"
     ]
    }
   ],
   "source": [
    "df.info()"
   ]
  },
  {
   "cell_type": "markdown",
   "metadata": {},
   "source": [
    "Of our 8 columns, 6 are non-numerical. I will convert these into numerical values before proceeding to generate a model. "
   ]
  },
  {
   "cell_type": "code",
   "execution_count": 21,
   "metadata": {},
   "outputs": [
    {
     "data": {
      "text/html": [
       "<div>\n",
       "<style scoped>\n",
       "    .dataframe tbody tr th:only-of-type {\n",
       "        vertical-align: middle;\n",
       "    }\n",
       "\n",
       "    .dataframe tbody tr th {\n",
       "        vertical-align: top;\n",
       "    }\n",
       "\n",
       "    .dataframe thead th {\n",
       "        text-align: right;\n",
       "    }\n",
       "</style>\n",
       "<table border=\"1\" class=\"dataframe\">\n",
       "  <thead>\n",
       "    <tr style=\"text-align: right;\">\n",
       "      <th></th>\n",
       "      <th>company</th>\n",
       "      <th>species</th>\n",
       "      <th>review_year</th>\n",
       "      <th>cocoa_percent</th>\n",
       "      <th>company_location</th>\n",
       "      <th>rating</th>\n",
       "      <th>bean_typ</th>\n",
       "      <th>country</th>\n",
       "    </tr>\n",
       "  </thead>\n",
       "  <tbody>\n",
       "    <tr>\n",
       "      <th>0</th>\n",
       "      <td>A. Morin</td>\n",
       "      <td>Agua Grande</td>\n",
       "      <td>2016</td>\n",
       "      <td>63%</td>\n",
       "      <td>France</td>\n",
       "      <td>3.75</td>\n",
       "      <td></td>\n",
       "      <td>Sao Tome</td>\n",
       "    </tr>\n",
       "    <tr>\n",
       "      <th>1</th>\n",
       "      <td>A. Morin</td>\n",
       "      <td>Kpime</td>\n",
       "      <td>2015</td>\n",
       "      <td>70%</td>\n",
       "      <td>France</td>\n",
       "      <td>2.75</td>\n",
       "      <td></td>\n",
       "      <td>Togo</td>\n",
       "    </tr>\n",
       "    <tr>\n",
       "      <th>2</th>\n",
       "      <td>A. Morin</td>\n",
       "      <td>Atsane</td>\n",
       "      <td>2015</td>\n",
       "      <td>70%</td>\n",
       "      <td>France</td>\n",
       "      <td>3.00</td>\n",
       "      <td></td>\n",
       "      <td>Togo</td>\n",
       "    </tr>\n",
       "    <tr>\n",
       "      <th>3</th>\n",
       "      <td>A. Morin</td>\n",
       "      <td>Akata</td>\n",
       "      <td>2015</td>\n",
       "      <td>70%</td>\n",
       "      <td>France</td>\n",
       "      <td>3.50</td>\n",
       "      <td></td>\n",
       "      <td>Togo</td>\n",
       "    </tr>\n",
       "    <tr>\n",
       "      <th>4</th>\n",
       "      <td>A. Morin</td>\n",
       "      <td>Quilla</td>\n",
       "      <td>2015</td>\n",
       "      <td>70%</td>\n",
       "      <td>France</td>\n",
       "      <td>3.50</td>\n",
       "      <td></td>\n",
       "      <td>Peru</td>\n",
       "    </tr>\n",
       "  </tbody>\n",
       "</table>\n",
       "</div>"
      ],
      "text/plain": [
       "    company      species  review_year cocoa_percent company_location  rating  \\\n",
       "0  A. Morin  Agua Grande         2016           63%           France    3.75   \n",
       "1  A. Morin        Kpime         2015           70%           France    2.75   \n",
       "2  A. Morin       Atsane         2015           70%           France    3.00   \n",
       "3  A. Morin        Akata         2015           70%           France    3.50   \n",
       "4  A. Morin       Quilla         2015           70%           France    3.50   \n",
       "\n",
       "  bean_typ   country  \n",
       "0           Sao Tome  \n",
       "1               Togo  \n",
       "2               Togo  \n",
       "3               Togo  \n",
       "4               Peru  "
      ]
     },
     "execution_count": 21,
     "metadata": {},
     "output_type": "execute_result"
    }
   ],
   "source": [
    "# Remove unnessessary columns - Reference Number\n",
    "\"\"\"Reference # indicates how recently the entry was added to the database. \n",
    "They are not unique values and are not important for analysis or prediction.\"\"\"\n",
    "\n",
    "df = df.drop(['REF'],axis=1)\n",
    "df.head()"
   ]
  },
  {
   "cell_type": "code",
   "execution_count": 22,
   "metadata": {},
   "outputs": [
    {
     "data": {
      "text/html": [
       "<div>\n",
       "<style scoped>\n",
       "    .dataframe tbody tr th:only-of-type {\n",
       "        vertical-align: middle;\n",
       "    }\n",
       "\n",
       "    .dataframe tbody tr th {\n",
       "        vertical-align: top;\n",
       "    }\n",
       "\n",
       "    .dataframe thead th {\n",
       "        text-align: right;\n",
       "    }\n",
       "</style>\n",
       "<table border=\"1\" class=\"dataframe\">\n",
       "  <thead>\n",
       "    <tr style=\"text-align: right;\">\n",
       "      <th></th>\n",
       "      <th>company</th>\n",
       "      <th>species</th>\n",
       "      <th>review_year</th>\n",
       "      <th>cocoa_percent</th>\n",
       "      <th>company_location</th>\n",
       "      <th>rating</th>\n",
       "      <th>bean_typ</th>\n",
       "      <th>country</th>\n",
       "    </tr>\n",
       "  </thead>\n",
       "  <tbody>\n",
       "    <tr>\n",
       "      <th>0</th>\n",
       "      <td>A. Morin</td>\n",
       "      <td>Agua Grande</td>\n",
       "      <td>2016</td>\n",
       "      <td>0.63</td>\n",
       "      <td>France</td>\n",
       "      <td>3.75</td>\n",
       "      <td></td>\n",
       "      <td>Sao Tome</td>\n",
       "    </tr>\n",
       "    <tr>\n",
       "      <th>1</th>\n",
       "      <td>A. Morin</td>\n",
       "      <td>Kpime</td>\n",
       "      <td>2015</td>\n",
       "      <td>0.70</td>\n",
       "      <td>France</td>\n",
       "      <td>2.75</td>\n",
       "      <td></td>\n",
       "      <td>Togo</td>\n",
       "    </tr>\n",
       "    <tr>\n",
       "      <th>2</th>\n",
       "      <td>A. Morin</td>\n",
       "      <td>Atsane</td>\n",
       "      <td>2015</td>\n",
       "      <td>0.70</td>\n",
       "      <td>France</td>\n",
       "      <td>3.00</td>\n",
       "      <td></td>\n",
       "      <td>Togo</td>\n",
       "    </tr>\n",
       "    <tr>\n",
       "      <th>3</th>\n",
       "      <td>A. Morin</td>\n",
       "      <td>Akata</td>\n",
       "      <td>2015</td>\n",
       "      <td>0.70</td>\n",
       "      <td>France</td>\n",
       "      <td>3.50</td>\n",
       "      <td></td>\n",
       "      <td>Togo</td>\n",
       "    </tr>\n",
       "    <tr>\n",
       "      <th>4</th>\n",
       "      <td>A. Morin</td>\n",
       "      <td>Quilla</td>\n",
       "      <td>2015</td>\n",
       "      <td>0.70</td>\n",
       "      <td>France</td>\n",
       "      <td>3.50</td>\n",
       "      <td></td>\n",
       "      <td>Peru</td>\n",
       "    </tr>\n",
       "  </tbody>\n",
       "</table>\n",
       "</div>"
      ],
      "text/plain": [
       "    company      species  review_year  cocoa_percent company_location  rating  \\\n",
       "0  A. Morin  Agua Grande         2016           0.63           France    3.75   \n",
       "1  A. Morin        Kpime         2015           0.70           France    2.75   \n",
       "2  A. Morin       Atsane         2015           0.70           France    3.00   \n",
       "3  A. Morin        Akata         2015           0.70           France    3.50   \n",
       "4  A. Morin       Quilla         2015           0.70           France    3.50   \n",
       "\n",
       "  bean_typ   country  \n",
       "0           Sao Tome  \n",
       "1               Togo  \n",
       "2               Togo  \n",
       "3               Togo  \n",
       "4               Peru  "
      ]
     },
     "execution_count": 22,
     "metadata": {},
     "output_type": "execute_result"
    }
   ],
   "source": [
    "# modify data type to change the cocoa % from a string to a float\n",
    "df['cocoa_percent'] = df['cocoa_percent'].str.replace('%','').astype(float)/100\n",
    "df.head()"
   ]
  },
  {
   "cell_type": "markdown",
   "metadata": {},
   "source": [
    "I will next look at all the unique values in the company, species, company_location, and country columns to get an idea of how I want to engineer these categorical features into numerical data. "
   ]
  },
  {
   "cell_type": "code",
   "execution_count": 26,
   "metadata": {},
   "outputs": [
    {
     "name": "stdout",
     "output_type": "stream",
     "text": [
      "company\n",
      "416\n",
      "species\n",
      "1039\n",
      "company_location\n",
      "60\n",
      "country\n",
      "100\n"
     ]
    }
   ],
   "source": [
    "print('company')\n",
    "print(df['company'].nunique())\n",
    "print('species')\n",
    "print(df['species'].nunique())\n",
    "print('company_location')\n",
    "print(df['company_location'].nunique())\n",
    "print('country')\n",
    "print(df['country'].nunique())"
   ]
  },
  {
   "cell_type": "markdown",
   "metadata": {},
   "source": [
    "Hmm, of 1795 entries 1039 of these are unique species, 416 are unique companies, 100 are unique countries, and 60 have unique company locations. I will check to see if some of the unique values are actually repeats due to misspellings/abbreviations or combinations. "
   ]
  },
  {
   "cell_type": "code",
   "execution_count": 27,
   "metadata": {
    "scrolled": true
   },
   "outputs": [
    {
     "data": {
      "text/plain": [
       "{'Africa, Carribean, C. Am.',\n",
       " 'Australia',\n",
       " 'Belize',\n",
       " 'Bolivia',\n",
       " 'Brazil',\n",
       " 'Burma',\n",
       " 'Cameroon',\n",
       " 'Carribean',\n",
       " 'Carribean(DR/Jam/Tri)',\n",
       " 'Central and S. America',\n",
       " 'Colombia',\n",
       " 'Colombia, Ecuador',\n",
       " 'Congo',\n",
       " 'Cost Rica, Ven',\n",
       " 'Costa Rica',\n",
       " 'Cuba',\n",
       " 'DR, Ecuador, Peru',\n",
       " 'Dom. Rep., Madagascar',\n",
       " 'Domincan Republic',\n",
       " 'Dominican Rep., Bali',\n",
       " 'Dominican Republic',\n",
       " 'Ecuador',\n",
       " 'Ecuador, Costa Rica',\n",
       " 'Ecuador, Mad., PNG',\n",
       " 'El Salvador',\n",
       " 'Fiji',\n",
       " 'Gabon',\n",
       " 'Ghana',\n",
       " 'Ghana & Madagascar',\n",
       " 'Ghana, Domin. Rep',\n",
       " 'Ghana, Panama, Ecuador',\n",
       " 'Gre., PNG, Haw., Haiti, Mad',\n",
       " 'Grenada',\n",
       " 'Guat., D.R., Peru, Mad., PNG',\n",
       " 'Guatemala',\n",
       " 'Haiti',\n",
       " 'Hawaii',\n",
       " 'Honduras',\n",
       " 'India',\n",
       " 'Indonesia',\n",
       " 'Indonesia, Ghana',\n",
       " 'Ivory Coast',\n",
       " 'Jamaica',\n",
       " 'Liberia',\n",
       " 'Mad., Java, PNG',\n",
       " 'Madagascar',\n",
       " 'Madagascar & Ecuador',\n",
       " 'Malaysia',\n",
       " 'Martinique',\n",
       " 'Mexico',\n",
       " 'Nicaragua',\n",
       " 'Nigeria',\n",
       " 'PNG, Vanuatu, Mad',\n",
       " 'Panama',\n",
       " 'Papua New Guinea',\n",
       " 'Peru',\n",
       " 'Peru(SMartin,Pangoa,nacional)',\n",
       " 'Peru, Belize',\n",
       " 'Peru, Dom. Rep',\n",
       " 'Peru, Ecuador',\n",
       " 'Peru, Ecuador, Venezuela',\n",
       " 'Peru, Mad., Dom. Rep.',\n",
       " 'Peru, Madagascar',\n",
       " 'Philippines',\n",
       " 'Principe',\n",
       " 'Puerto Rico',\n",
       " 'Samoa',\n",
       " 'Sao Tome',\n",
       " 'Sao Tome & Principe',\n",
       " 'Solomon Islands',\n",
       " 'South America',\n",
       " 'South America, Africa',\n",
       " 'Sri Lanka',\n",
       " 'St. Lucia',\n",
       " 'Suriname',\n",
       " 'Tanzania',\n",
       " 'Tobago',\n",
       " 'Togo',\n",
       " 'Trinidad',\n",
       " 'Trinidad, Ecuador',\n",
       " 'Trinidad, Tobago',\n",
       " 'Trinidad-Tobago',\n",
       " 'Uganda',\n",
       " 'Vanuatu',\n",
       " 'Ven, Bolivia, D.R.',\n",
       " 'Ven, Trinidad, Ecuador',\n",
       " 'Ven., Indonesia, Ecuad.',\n",
       " 'Ven., Trinidad, Mad.',\n",
       " 'Ven.,Ecu.,Peru,Nic.',\n",
       " 'Venez,Africa,Brasil,Peru,Mex',\n",
       " 'Venezuela',\n",
       " 'Venezuela, Carribean',\n",
       " 'Venezuela, Dom. Rep.',\n",
       " 'Venezuela, Ghana',\n",
       " 'Venezuela, Java',\n",
       " 'Venezuela, Trinidad',\n",
       " 'Venezuela/ Ghana',\n",
       " 'Vietnam',\n",
       " 'West Africa',\n",
       " nan,\n",
       " '\\xa0'}"
      ]
     },
     "execution_count": 27,
     "metadata": {},
     "output_type": "execute_result"
    }
   ],
   "source": [
    "set(df['country'])"
   ]
  },
  {
   "cell_type": "markdown",
   "metadata": {},
   "source": [
    "Creating a dummy variable of each country should work for this - then combinations of countries will have several 1's within these dummy variables. Not sure how to do this though. "
   ]
  },
  {
   "cell_type": "code",
   "execution_count": 58,
   "metadata": {},
   "outputs": [],
   "source": [
    "#drop na values\n",
    "no_country_df = df['country'].dropna()\n",
    "#create a list containing unique country values \n",
    "all_countries = list(set(no_country_df))\n"
   ]
  },
  {
   "cell_type": "code",
   "execution_count": 57,
   "metadata": {},
   "outputs": [
    {
     "ename": "AttributeError",
     "evalue": "'list' object has no attribute 'str'",
     "output_type": "error",
     "traceback": [
      "\u001b[1;31m---------------------------------------------------------------------------\u001b[0m",
      "\u001b[1;31mAttributeError\u001b[0m                            Traceback (most recent call last)",
      "\u001b[1;32m<ipython-input-57-038de5f83d30>\u001b[0m in \u001b[0;36m<module>\u001b[1;34m()\u001b[0m\n\u001b[0;32m      1\u001b[0m \u001b[1;31m# Filter out entries with a combination of countries\u001b[0m\u001b[1;33m\u001b[0m\u001b[1;33m\u001b[0m\u001b[0m\n\u001b[1;32m----> 2\u001b[1;33m \u001b[0mcombo\u001b[0m \u001b[1;33m=\u001b[0m \u001b[0mall_countries\u001b[0m\u001b[1;33m.\u001b[0m\u001b[0mstr\u001b[0m\u001b[1;33m.\u001b[0m\u001b[0mcontains\u001b[0m\u001b[1;33m(\u001b[0m\u001b[1;34m' '\u001b[0m\u001b[1;33m)\u001b[0m\u001b[1;33m\u001b[0m\u001b[0m\n\u001b[0m\u001b[0;32m      3\u001b[0m \u001b[0mabb\u001b[0m \u001b[1;33m=\u001b[0m \u001b[0mall_countries\u001b[0m\u001b[1;33m.\u001b[0m\u001b[0mstr\u001b[0m\u001b[1;33m.\u001b[0m\u001b[0mcontains\u001b[0m\u001b[1;33m(\u001b[0m\u001b[1;34m'.'\u001b[0m\u001b[1;33m)\u001b[0m\u001b[1;33m\u001b[0m\u001b[0m\n\u001b[0;32m      4\u001b[0m \u001b[1;31m# Use this filtered list to create dummy variables\u001b[0m\u001b[1;33m\u001b[0m\u001b[1;33m\u001b[0m\u001b[0m\n",
      "\u001b[1;31mAttributeError\u001b[0m: 'list' object has no attribute 'str'"
     ]
    }
   ],
   "source": [
    "# Filter out entries with a combination of countries \n",
    "combo = all_countries.str.contains(' ') \n",
    "\n",
    "# Perhaps use regex \n",
    "\n",
    "# Use this filtered list to create dummy variables "
   ]
  },
  {
   "cell_type": "code",
   "execution_count": null,
   "metadata": {},
   "outputs": [],
   "source": []
  },
  {
   "cell_type": "code",
   "execution_count": null,
   "metadata": {},
   "outputs": [],
   "source": []
  },
  {
   "cell_type": "code",
   "execution_count": null,
   "metadata": {},
   "outputs": [],
   "source": []
  },
  {
   "cell_type": "code",
   "execution_count": null,
   "metadata": {},
   "outputs": [],
   "source": []
  },
  {
   "cell_type": "code",
   "execution_count": null,
   "metadata": {},
   "outputs": [],
   "source": []
  },
  {
   "cell_type": "code",
   "execution_count": null,
   "metadata": {},
   "outputs": [],
   "source": []
  }
 ],
 "metadata": {
  "kernelspec": {
   "display_name": "Python 3",
   "language": "python",
   "name": "python3"
  },
  "language_info": {
   "codemirror_mode": {
    "name": "ipython",
    "version": 3
   },
   "file_extension": ".py",
   "mimetype": "text/x-python",
   "name": "python",
   "nbconvert_exporter": "python",
   "pygments_lexer": "ipython3",
   "version": "3.6.4"
  }
 },
 "nbformat": 4,
 "nbformat_minor": 2
}
